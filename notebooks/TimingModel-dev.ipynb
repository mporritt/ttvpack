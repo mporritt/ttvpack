{
 "cells": [
  {
   "cell_type": "code",
   "execution_count": 1,
   "id": "712918b8",
   "metadata": {},
   "outputs": [
    {
     "data": {
      "text/plain": [
       "\n",
       "========== Model Parameters ==========\n",
       "mean : 1.0000 \n",
       "u    : (0.7000, 0.0000) \n",
       "\n",
       "Planet 0 parameters -----------------\n",
       "    r    : 0.0500 r/R* \n",
       "    b    : 0.9000      \n",
       "    ttvs : [ 1.00, 2.50, 14.40, -5.76] mins \n"
      ]
     },
     "execution_count": 1,
     "metadata": {},
     "output_type": "execute_result"
    }
   ],
   "source": [
    "from TimingModel import TimingModel\n",
    "pars = {'mean':1, 'tts':[[1,2,3,4]], 'u':[0.7,0], 'r':[0.05], 'b':[0.9], 'ttvs':[[1/1440,2.5/1440,0.01,-0.004]]}\n",
    "\n",
    "model = TimingModel(**pars)\n",
    "model"
   ]
  },
  {
   "cell_type": "code",
   "execution_count": null,
   "id": "345a1be1",
   "metadata": {},
   "outputs": [],
   "source": []
  }
 ],
 "metadata": {
  "kernelspec": {
   "display_name": "Python 3 (ipykernel)",
   "language": "python",
   "name": "python3"
  },
  "language_info": {
   "codemirror_mode": {
    "name": "ipython",
    "version": 3
   },
   "file_extension": ".py",
   "mimetype": "text/x-python",
   "name": "python",
   "nbconvert_exporter": "python",
   "pygments_lexer": "ipython3",
   "version": "3.9.7"
  }
 },
 "nbformat": 4,
 "nbformat_minor": 5
}
