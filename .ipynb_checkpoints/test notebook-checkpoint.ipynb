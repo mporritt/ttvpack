{
 "cells": [
  {
   "cell_type": "code",
   "execution_count": null,
   "id": "eb6afd26",
   "metadata": {},
   "outputs": [],
   "source": [
    "# Desired code progression:\n",
    "search_data(star_id)\n",
    "mission_data = ttvpack.get_data(star_id, missions=[\"k2, TESS\"])\n",
    "timing_model = fit_ttvs(mission_data, period=None, t0=None)\n",
    "timing_model.times\n",
    "timing_model.visualise()\n"
   ]
  }
 ],
 "metadata": {
  "kernelspec": {
   "display_name": "Python 3",
   "language": "python",
   "name": "python3"
  },
  "language_info": {
   "codemirror_mode": {
    "name": "ipython",
    "version": 3
   },
   "file_extension": ".py",
   "mimetype": "text/x-python",
   "name": "python",
   "nbconvert_exporter": "python",
   "pygments_lexer": "ipython3",
   "version": "3.10.0"
  }
 },
 "nbformat": 4,
 "nbformat_minor": 5
}
