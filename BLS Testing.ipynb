{
 "cells": [
  {
   "cell_type": "code",
   "execution_count": null,
   "id": "ff7aafc4",
   "metadata": {},
   "outputs": [],
   "source": [
    "import matplotlib.pyplot as plt\n",
    "\n",
    "from fitting import find_transits\n",
    "from retrieval import get_target"
   ]
  },
  {
   "cell_type": "code",
   "execution_count": null,
   "id": "943661c9",
   "metadata": {},
   "outputs": [],
   "source": [
    "# epic=212012119; period=[3.2809626, 8.4388385] # k2-275\n",
    "# epic=211924657; period=[2.64460, 4.00498]     # k2-146\n",
    "tic=55652896;   period=[17.089, 34.556 ]      # TOI-216\n",
    "col = get_target(tic=tic)"
   ]
  },
  {
   "cell_type": "code",
   "execution_count": null,
   "id": "47718d47",
   "metadata": {},
   "outputs": [],
   "source": [
    "lightcurve = col[0].append(col.data[1:9])\n",
    "\n",
    "win_len = int( 0.85/lightcurve.meta['TIMEDEL'] )\n",
    "win_len_odd = win_len - 1 + win_len%2\n",
    "\n",
    "lightcurve = lightcurve\\\n",
    "    .remove_nans()\\\n",
    "    .flatten(window_length=win_len_odd)\\\n",
    "    .remove_outliers(sigma_lower=20, sigma_upper=5)\n",
    "lightcurve.scatter()\n",
    "plt.show()\n",
    "\n",
    "find_transits(lightcurve, period=period, num_planets=3);"
   ]
  },
  {
   "cell_type": "code",
   "execution_count": null,
   "id": "ec04ca01",
   "metadata": {},
   "outputs": [],
   "source": []
  }
 ],
 "metadata": {
  "kernelspec": {
   "display_name": "Python 3 (ipykernel)",
   "language": "python",
   "name": "python3"
  },
  "language_info": {
   "codemirror_mode": {
    "name": "ipython",
    "version": 3
   },
   "file_extension": ".py",
   "mimetype": "text/x-python",
   "name": "python",
   "nbconvert_exporter": "python",
   "pygments_lexer": "ipython3",
   "version": "3.9.7"
  }
 },
 "nbformat": 4,
 "nbformat_minor": 5
}
