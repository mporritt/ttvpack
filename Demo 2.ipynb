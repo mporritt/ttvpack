{
 "cells": [
  {
   "cell_type": "code",
   "execution_count": 1,
   "id": "238709a5",
   "metadata": {},
   "outputs": [
    {
     "name": "stderr",
     "output_type": "stream",
     "text": [
      "WARNING (aesara.tensor.blas): Using NumPy C-API based implementation for BLAS functions.\n",
      "WARNING (theano.tensor.blas): Using NumPy C-API based implementation for BLAS functions.\n"
     ]
    }
   ],
   "source": [
    "from retrieval import search_target, get_target\n",
    "from fitting import fit_target_tts"
   ]
  },
  {
   "cell_type": "code",
   "execution_count": 2,
   "id": "23df258f",
   "metadata": {},
   "outputs": [],
   "source": [
    "epic=212012119; period=[3.2809626, 8.4388385] # k2-275\n",
    "# epic=211924657; period=[2.64460, 4.00498]     # k2-146\n",
    "# tic=55652896;   period=[17.089, 34.556 ]      # TOI-216"
   ]
  },
  {
   "cell_type": "code",
   "execution_count": 3,
   "id": "d82a9f90",
   "metadata": {},
   "outputs": [
    {
     "data": {
      "text/html": [
       "SearchResult containing 17 data products.\n",
       "\n",
       "<table id=\"table139772413239744\">\n",
       "<thead><tr><th>#</th><th>mission</th><th>year</th><th>author</th><th>exptime</th><th>target_name</th><th>distance</th></tr></thead>\n",
       "<thead><tr><th></th><th></th><th></th><th></th><th>s</th><th></th><th>arcsec</th></tr></thead>\n",
       "<tr><td>0</td><td>K2 Campaign 05</td><td>2015</td><td><a href='https://archive.stsci.edu/k2/data_products.html'>K2</a></td><td>1800</td><td>ktwo212012119</td><td>0.0</td></tr>\n",
       "<tr><td>1</td><td>K2 Campaign 05</td><td>2015</td><td><a href='https://archive.stsci.edu/hlsp/everest'>EVEREST</a></td><td>1800</td><td>ktwo212012119</td><td>0.0</td></tr>\n",
       "<tr><td>2</td><td>K2 Campaign 05</td><td>2015</td><td>K2SC</td><td>1800</td><td>ktwo212012119</td><td>0.0</td></tr>\n",
       "<tr><td>3</td><td>K2 Campaign 05</td><td>2015</td><td><a href='https://archive.stsci.edu/hlsp/k2sff'>K2SFF</a></td><td>1800</td><td>ktwo212012119</td><td>0.0</td></tr>\n",
       "<tr><td>4</td><td>K2 Campaign 18</td><td>2018</td><td><a href='https://archive.stsci.edu/k2/data_products.html'>K2</a></td><td>60</td><td>ktwo212012119</td><td>0.0</td></tr>\n",
       "<tr><td>5</td><td>K2 Campaign 18</td><td>2018</td><td><a href='https://archive.stsci.edu/k2/data_products.html'>K2</a></td><td>1800</td><td>ktwo212012119</td><td>0.0</td></tr>\n",
       "<tr><td>6</td><td>K2 Campaign 18</td><td>2018</td><td><a href='https://archive.stsci.edu/hlsp/everest'>EVEREST</a></td><td>1800</td><td>ktwo212012119</td><td>0.0</td></tr>\n",
       "<tr><td>7</td><td>K2 Campaign 18</td><td>2018</td><td><a href='https://archive.stsci.edu/hlsp/k2sff'>K2SFF</a></td><td>1800</td><td>ktwo212012119</td><td>0.0</td></tr>\n",
       "<tr><td>8</td><td>TESS Sector 44</td><td>2021</td><td><a href='https://heasarc.gsfc.nasa.gov/docs/tess/pipeline.html'>SPOC</a></td><td>20</td><td>332022997</td><td>0.0</td></tr>\n",
       "<tr><td>9</td><td>TESS Sector 44</td><td>2021</td><td><a href='https://heasarc.gsfc.nasa.gov/docs/tess/pipeline.html'>SPOC</a></td><td>120</td><td>332022997</td><td>0.0</td></tr>\n",
       "<tr><td>10</td><td>TESS Sector 44</td><td>2021</td><td><a href='https://mast.stsci.edu/tesscut/'>TESScut</a></td><td>475</td><td>212012119</td><td>0.0</td></tr>\n",
       "<tr><td>11</td><td>TESS Sector 45</td><td>2021</td><td><a href='https://heasarc.gsfc.nasa.gov/docs/tess/pipeline.html'>SPOC</a></td><td>20</td><td>332022997</td><td>0.0</td></tr>\n",
       "<tr><td>12</td><td>TESS Sector 45</td><td>2021</td><td><a href='https://heasarc.gsfc.nasa.gov/docs/tess/pipeline.html'>SPOC</a></td><td>120</td><td>332022997</td><td>0.0</td></tr>\n",
       "<tr><td>13</td><td>TESS Sector 45</td><td>2021</td><td><a href='https://mast.stsci.edu/tesscut/'>TESScut</a></td><td>475</td><td>212012119</td><td>0.0</td></tr>\n",
       "<tr><td>14</td><td>TESS Sector 46</td><td>2021</td><td><a href='https://heasarc.gsfc.nasa.gov/docs/tess/pipeline.html'>SPOC</a></td><td>20</td><td>332022997</td><td>0.0</td></tr>\n",
       "<tr><td>15</td><td>TESS Sector 46</td><td>2021</td><td><a href='https://heasarc.gsfc.nasa.gov/docs/tess/pipeline.html'>SPOC</a></td><td>120</td><td>332022997</td><td>0.0</td></tr>\n",
       "<tr><td>16</td><td>TESS Sector 46</td><td>2021</td><td><a href='https://mast.stsci.edu/tesscut/'>TESScut</a></td><td>475</td><td>212012119</td><td>0.0</td></tr>\n",
       "</table>"
      ],
      "text/plain": [
       "SearchResult containing 17 data products.\n",
       "\n",
       " #     mission     year  author exptime  target_name  distance\n",
       "                                   s                   arcsec \n",
       "--- -------------- ---- ------- ------- ------------- --------\n",
       "  0 K2 Campaign 05 2015      K2    1800 ktwo212012119      0.0\n",
       "  1 K2 Campaign 05 2015 EVEREST    1800 ktwo212012119      0.0\n",
       "  2 K2 Campaign 05 2015    K2SC    1800 ktwo212012119      0.0\n",
       "  3 K2 Campaign 05 2015   K2SFF    1800 ktwo212012119      0.0\n",
       "  4 K2 Campaign 18 2018      K2      60 ktwo212012119      0.0\n",
       "  5 K2 Campaign 18 2018      K2    1800 ktwo212012119      0.0\n",
       "  6 K2 Campaign 18 2018 EVEREST    1800 ktwo212012119      0.0\n",
       "  7 K2 Campaign 18 2018   K2SFF    1800 ktwo212012119      0.0\n",
       "  8 TESS Sector 44 2021    SPOC      20     332022997      0.0\n",
       "  9 TESS Sector 44 2021    SPOC     120     332022997      0.0\n",
       " 10 TESS Sector 44 2021 TESScut     475     212012119      0.0\n",
       " 11 TESS Sector 45 2021    SPOC      20     332022997      0.0\n",
       " 12 TESS Sector 45 2021    SPOC     120     332022997      0.0\n",
       " 13 TESS Sector 45 2021 TESScut     475     212012119      0.0\n",
       " 14 TESS Sector 46 2021    SPOC      20     332022997      0.0\n",
       " 15 TESS Sector 46 2021    SPOC     120     332022997      0.0\n",
       " 16 TESS Sector 46 2021 TESScut     475     212012119      0.0"
      ]
     },
     "execution_count": 3,
     "metadata": {},
     "output_type": "execute_result"
    }
   ],
   "source": [
    "search_target(epic=epic)"
   ]
  },
  {
   "cell_type": "code",
   "execution_count": 4,
   "id": "313f3a49",
   "metadata": {},
   "outputs": [
    {
     "name": "stdout",
     "output_type": "stream",
     "text": [
      "The following products were selected for download:\n",
      "SearchResult containing 5 data products.\n",
      "\n",
      " #     mission     year  author exptime  target_name  distance\n",
      "                                   s                   arcsec \n",
      "--- -------------- ---- ------- ------- ------------- --------\n",
      "  0 K2 Campaign 05 2015 EVEREST    1800 ktwo212012119      0.0\n",
      "  1 K2 Campaign 18 2018 EVEREST    1800 ktwo212012119      0.0\n",
      "  2 TESS Sector 44 2021    SPOC      20     332022997      0.0\n",
      "  3 TESS Sector 45 2021    SPOC      20     332022997      0.0\n",
      "  4 TESS Sector 46 2021    SPOC      20     332022997      0.0\n",
      "\n"
     ]
    }
   ],
   "source": [
    "lightcurves = get_target(epic=epic)"
   ]
  },
  {
   "cell_type": "code",
   "execution_count": 5,
   "id": "0b7cb0d7",
   "metadata": {
    "scrolled": true
   },
   "outputs": [
    {
     "name": "stdout",
     "output_type": "stream",
     "text": [
      "Target was observed in consecutive sectors/campaigns, stitching adjacent light curves.\n",
      "Fitting a timing model for data set 0...\n",
      "BLS found signal with t0=2309.15, period=3.2802, num_transits=23\n",
      "BLS found signal with t0=2309.48, period=8.4385, num_transits=9\n"
     ]
    },
    {
     "name": "stderr",
     "output_type": "stream",
     "text": [
      "optimizing logp for variables: [tts_1, tts_0]\n"
     ]
    },
    {
     "data": {
      "text/html": [
       "\n",
       "    <div>\n",
       "        <style>\n",
       "            /* Turns off some styling */\n",
       "            progress {\n",
       "                /* gets rid of default border in Firefox and Opera. */\n",
       "                border: none;\n",
       "                /* Needs to be in here for Safari polyfill so background images work as expected. */\n",
       "                background-size: auto;\n",
       "            }\n",
       "            .progress-bar-interrupted, .progress-bar-interrupted::-webkit-progress-bar {\n",
       "                background: #F44336;\n",
       "            }\n",
       "        </style>\n",
       "      <progress value='139' class='' max='139' style='width:300px; height:20px; vertical-align: middle;'></progress>\n",
       "      100.00% [139/139 00:00<00:00 logp = 2.190e+04]\n",
       "    </div>\n",
       "    "
      ],
      "text/plain": [
       "<IPython.core.display.HTML object>"
      ]
     },
     "metadata": {},
     "output_type": "display_data"
    },
    {
     "name": "stdout",
     "output_type": "stream",
     "text": [
      "\n"
     ]
    },
    {
     "name": "stderr",
     "output_type": "stream",
     "text": [
      "message: Desired error not necessarily achieved due to precision loss.\n",
      "logp: 21834.880060081934 -> 21897.508806445545\n",
      "optimizing logp for variables: [b, r]\n"
     ]
    },
    {
     "data": {
      "text/html": [
       "\n",
       "    <div>\n",
       "        <style>\n",
       "            /* Turns off some styling */\n",
       "            progress {\n",
       "                /* gets rid of default border in Firefox and Opera. */\n",
       "                border: none;\n",
       "                /* Needs to be in here for Safari polyfill so background images work as expected. */\n",
       "                background-size: auto;\n",
       "            }\n",
       "            .progress-bar-interrupted, .progress-bar-interrupted::-webkit-progress-bar {\n",
       "                background: #F44336;\n",
       "            }\n",
       "        </style>\n",
       "      <progress value='31' class='' max='31' style='width:300px; height:20px; vertical-align: middle;'></progress>\n",
       "      100.00% [31/31 00:00<00:00 logp = 2.288e+04]\n",
       "    </div>\n",
       "    "
      ],
      "text/plain": [
       "<IPython.core.display.HTML object>"
      ]
     },
     "metadata": {},
     "output_type": "display_data"
    },
    {
     "name": "stderr",
     "output_type": "stream",
     "text": [
      "message: Optimization terminated successfully.\n",
      "logp: 21897.508806445545 -> 22884.404424300483\n"
     ]
    },
    {
     "name": "stdout",
     "output_type": "stream",
     "text": [
      "\n"
     ]
    },
    {
     "name": "stderr",
     "output_type": "stream",
     "text": [
      "optimizing logp for variables: [tts_1, tts_0]\n"
     ]
    },
    {
     "data": {
      "text/html": [
       "\n",
       "    <div>\n",
       "        <style>\n",
       "            /* Turns off some styling */\n",
       "            progress {\n",
       "                /* gets rid of default border in Firefox and Opera. */\n",
       "                border: none;\n",
       "                /* Needs to be in here for Safari polyfill so background images work as expected. */\n",
       "                background-size: auto;\n",
       "            }\n",
       "            .progress-bar-interrupted, .progress-bar-interrupted::-webkit-progress-bar {\n",
       "                background: #F44336;\n",
       "            }\n",
       "        </style>\n",
       "      <progress value='96' class='' max='96' style='width:300px; height:20px; vertical-align: middle;'></progress>\n",
       "      100.00% [96/96 00:00<00:00 logp = 2.290e+04]\n",
       "    </div>\n",
       "    "
      ],
      "text/plain": [
       "<IPython.core.display.HTML object>"
      ]
     },
     "metadata": {},
     "output_type": "display_data"
    },
    {
     "name": "stdout",
     "output_type": "stream",
     "text": [
      "\n"
     ]
    },
    {
     "name": "stderr",
     "output_type": "stream",
     "text": [
      "message: Desired error not necessarily achieved due to precision loss.\n",
      "logp: 22884.404424300483 -> 22895.131998304045\n",
      "optimizing logp for variables: [tts_1, tts_0, b, r, u, mean]\n"
     ]
    },
    {
     "data": {
      "text/html": [
       "\n",
       "    <div>\n",
       "        <style>\n",
       "            /* Turns off some styling */\n",
       "            progress {\n",
       "                /* gets rid of default border in Firefox and Opera. */\n",
       "                border: none;\n",
       "                /* Needs to be in here for Safari polyfill so background images work as expected. */\n",
       "                background-size: auto;\n",
       "            }\n",
       "            .progress-bar-interrupted, .progress-bar-interrupted::-webkit-progress-bar {\n",
       "                background: #F44336;\n",
       "            }\n",
       "        </style>\n",
       "      <progress value='120' class='' max='120' style='width:300px; height:20px; vertical-align: middle;'></progress>\n",
       "      100.00% [120/120 00:00<00:00 logp = 2.290e+04]\n",
       "    </div>\n",
       "    "
      ],
      "text/plain": [
       "<IPython.core.display.HTML object>"
      ]
     },
     "metadata": {},
     "output_type": "display_data"
    },
    {
     "name": "stdout",
     "output_type": "stream",
     "text": [
      "\n",
      "Fitting a timing model for data set 1...\n"
     ]
    },
    {
     "name": "stderr",
     "output_type": "stream",
     "text": [
      "message: Desired error not necessarily achieved due to precision loss.\n",
      "logp: 22895.131998304045 -> 22897.474179782468\n"
     ]
    },
    {
     "name": "stdout",
     "output_type": "stream",
     "text": [
      "BLS found signal with t0=3421.39, period=3.2807, num_transits=15\n",
      "BLS found signal with t0=3423.42, period=8.4355, num_transits=6\n"
     ]
    },
    {
     "name": "stderr",
     "output_type": "stream",
     "text": [
      "optimizing logp for variables: [tts_1, tts_0]\n"
     ]
    },
    {
     "data": {
      "text/html": [
       "\n",
       "    <div>\n",
       "        <style>\n",
       "            /* Turns off some styling */\n",
       "            progress {\n",
       "                /* gets rid of default border in Firefox and Opera. */\n",
       "                border: none;\n",
       "                /* Needs to be in here for Safari polyfill so background images work as expected. */\n",
       "                background-size: auto;\n",
       "            }\n",
       "            .progress-bar-interrupted, .progress-bar-interrupted::-webkit-progress-bar {\n",
       "                background: #F44336;\n",
       "            }\n",
       "        </style>\n",
       "      <progress value='135' class='' max='135' style='width:300px; height:20px; vertical-align: middle;'></progress>\n",
       "      100.00% [135/135 00:00<00:00 logp = 1.500e+04]\n",
       "    </div>\n",
       "    "
      ],
      "text/plain": [
       "<IPython.core.display.HTML object>"
      ]
     },
     "metadata": {},
     "output_type": "display_data"
    },
    {
     "name": "stdout",
     "output_type": "stream",
     "text": [
      "\n"
     ]
    },
    {
     "name": "stderr",
     "output_type": "stream",
     "text": [
      "message: Desired error not necessarily achieved due to precision loss.\n",
      "logp: 14965.778898172572 -> 14999.664751485616\n",
      "optimizing logp for variables: [b, r]\n"
     ]
    },
    {
     "data": {
      "text/html": [
       "\n",
       "    <div>\n",
       "        <style>\n",
       "            /* Turns off some styling */\n",
       "            progress {\n",
       "                /* gets rid of default border in Firefox and Opera. */\n",
       "                border: none;\n",
       "                /* Needs to be in here for Safari polyfill so background images work as expected. */\n",
       "                background-size: auto;\n",
       "            }\n",
       "            .progress-bar-interrupted, .progress-bar-interrupted::-webkit-progress-bar {\n",
       "                background: #F44336;\n",
       "            }\n",
       "        </style>\n",
       "      <progress value='37' class='' max='37' style='width:300px; height:20px; vertical-align: middle;'></progress>\n",
       "      100.00% [37/37 00:00<00:00 logp = 1.567e+04]\n",
       "    </div>\n",
       "    "
      ],
      "text/plain": [
       "<IPython.core.display.HTML object>"
      ]
     },
     "metadata": {},
     "output_type": "display_data"
    },
    {
     "name": "stderr",
     "output_type": "stream",
     "text": [
      "message: Optimization terminated successfully.\n",
      "logp: 14999.664751485616 -> 15666.146530834752\n"
     ]
    },
    {
     "name": "stdout",
     "output_type": "stream",
     "text": [
      "\n"
     ]
    },
    {
     "name": "stderr",
     "output_type": "stream",
     "text": [
      "optimizing logp for variables: [tts_1, tts_0]\n"
     ]
    },
    {
     "data": {
      "text/html": [
       "\n",
       "    <div>\n",
       "        <style>\n",
       "            /* Turns off some styling */\n",
       "            progress {\n",
       "                /* gets rid of default border in Firefox and Opera. */\n",
       "                border: none;\n",
       "                /* Needs to be in here for Safari polyfill so background images work as expected. */\n",
       "                background-size: auto;\n",
       "            }\n",
       "            .progress-bar-interrupted, .progress-bar-interrupted::-webkit-progress-bar {\n",
       "                background: #F44336;\n",
       "            }\n",
       "        </style>\n",
       "      <progress value='62' class='' max='62' style='width:300px; height:20px; vertical-align: middle;'></progress>\n",
       "      100.00% [62/62 00:00<00:00 logp = 1.567e+04]\n",
       "    </div>\n",
       "    "
      ],
      "text/plain": [
       "<IPython.core.display.HTML object>"
      ]
     },
     "metadata": {},
     "output_type": "display_data"
    },
    {
     "name": "stdout",
     "output_type": "stream",
     "text": [
      "\n"
     ]
    },
    {
     "name": "stderr",
     "output_type": "stream",
     "text": [
      "message: Optimization terminated successfully.\n",
      "logp: 15666.146530834752 -> 15673.592602732871\n",
      "optimizing logp for variables: [tts_1, tts_0, b, r, u, mean]\n"
     ]
    },
    {
     "data": {
      "text/html": [
       "\n",
       "    <div>\n",
       "        <style>\n",
       "            /* Turns off some styling */\n",
       "            progress {\n",
       "                /* gets rid of default border in Firefox and Opera. */\n",
       "                border: none;\n",
       "                /* Needs to be in here for Safari polyfill so background images work as expected. */\n",
       "                background-size: auto;\n",
       "            }\n",
       "            .progress-bar-interrupted, .progress-bar-interrupted::-webkit-progress-bar {\n",
       "                background: #F44336;\n",
       "            }\n",
       "        </style>\n",
       "      <progress value='107' class='' max='107' style='width:300px; height:20px; vertical-align: middle;'></progress>\n",
       "      100.00% [107/107 00:00<00:00 logp = 1.568e+04]\n",
       "    </div>\n",
       "    "
      ],
      "text/plain": [
       "<IPython.core.display.HTML object>"
      ]
     },
     "metadata": {},
     "output_type": "display_data"
    },
    {
     "name": "stdout",
     "output_type": "stream",
     "text": [
      "\n",
      "Fitting a timing model for data set 2...\n"
     ]
    },
    {
     "name": "stderr",
     "output_type": "stream",
     "text": [
      "message: Desired error not necessarily achieved due to precision loss.\n",
      "logp: 15673.592602732871 -> 15675.933765052145\n"
     ]
    },
    {
     "name": "stdout",
     "output_type": "stream",
     "text": [
      "BLS found signal with t0=2501.15, period=3.2812, num_transits=24\n",
      "BLS found signal with t0=2504.82, period=8.8473, num_transits=9\n"
     ]
    },
    {
     "name": "stderr",
     "output_type": "stream",
     "text": [
      "optimizing logp for variables: [tts_1, tts_0]\n"
     ]
    },
    {
     "data": {
      "text/html": [
       "\n",
       "    <div>\n",
       "        <style>\n",
       "            /* Turns off some styling */\n",
       "            progress {\n",
       "                /* gets rid of default border in Firefox and Opera. */\n",
       "                border: none;\n",
       "                /* Needs to be in here for Safari polyfill so background images work as expected. */\n",
       "                background-size: auto;\n",
       "            }\n",
       "            .progress-bar-interrupted, .progress-bar-interrupted::-webkit-progress-bar {\n",
       "                background: #F44336;\n",
       "            }\n",
       "        </style>\n",
       "      <progress value='323' class='' max='323' style='width:300px; height:20px; vertical-align: middle;'></progress>\n",
       "      100.00% [323/323 00:51<00:00 logp = -1.280e+07]\n",
       "    </div>\n",
       "    "
      ],
      "text/plain": [
       "<IPython.core.display.HTML object>"
      ]
     },
     "metadata": {},
     "output_type": "display_data"
    },
    {
     "name": "stdout",
     "output_type": "stream",
     "text": [
      "\n"
     ]
    },
    {
     "name": "stderr",
     "output_type": "stream",
     "text": [
      "message: Desired error not necessarily achieved due to precision loss.\n",
      "logp: -12818655.959954886 -> -12803049.76162205\n",
      "optimizing logp for variables: [b, r]\n"
     ]
    },
    {
     "data": {
      "text/html": [
       "\n",
       "    <div>\n",
       "        <style>\n",
       "            /* Turns off some styling */\n",
       "            progress {\n",
       "                /* gets rid of default border in Firefox and Opera. */\n",
       "                border: none;\n",
       "                /* Needs to be in here for Safari polyfill so background images work as expected. */\n",
       "                background-size: auto;\n",
       "            }\n",
       "            .progress-bar-interrupted, .progress-bar-interrupted::-webkit-progress-bar {\n",
       "                background: #F44336;\n",
       "            }\n",
       "        </style>\n",
       "      <progress value='119' class='' max='119' style='width:300px; height:20px; vertical-align: middle;'></progress>\n",
       "      100.00% [119/119 00:15<00:00 logp = -1.271e+07]\n",
       "    </div>\n",
       "    "
      ],
      "text/plain": [
       "<IPython.core.display.HTML object>"
      ]
     },
     "metadata": {},
     "output_type": "display_data"
    },
    {
     "name": "stdout",
     "output_type": "stream",
     "text": [
      "\n"
     ]
    },
    {
     "name": "stderr",
     "output_type": "stream",
     "text": [
      "message: Desired error not necessarily achieved due to precision loss.\n",
      "logp: -12803049.76162205 -> -12710448.995225262\n",
      "optimizing logp for variables: [tts_1, tts_0]\n"
     ]
    },
    {
     "data": {
      "text/html": [
       "\n",
       "    <div>\n",
       "        <style>\n",
       "            /* Turns off some styling */\n",
       "            progress {\n",
       "                /* gets rid of default border in Firefox and Opera. */\n",
       "                border: none;\n",
       "                /* Needs to be in here for Safari polyfill so background images work as expected. */\n",
       "                background-size: auto;\n",
       "            }\n",
       "            .progress-bar-interrupted, .progress-bar-interrupted::-webkit-progress-bar {\n",
       "                background: #F44336;\n",
       "            }\n",
       "        </style>\n",
       "      <progress value='247' class='' max='247' style='width:300px; height:20px; vertical-align: middle;'></progress>\n",
       "      100.00% [247/247 00:38<00:00 logp = -1.271e+07]\n",
       "    </div>\n",
       "    "
      ],
      "text/plain": [
       "<IPython.core.display.HTML object>"
      ]
     },
     "metadata": {},
     "output_type": "display_data"
    },
    {
     "name": "stdout",
     "output_type": "stream",
     "text": [
      "\n"
     ]
    },
    {
     "name": "stderr",
     "output_type": "stream",
     "text": [
      "message: Desired error not necessarily achieved due to precision loss.\n",
      "logp: -12710448.995225262 -> -12707825.412314916\n",
      "optimizing logp for variables: [tts_1, tts_0, b, r, u, mean]\n"
     ]
    },
    {
     "data": {
      "text/html": [
       "\n",
       "    <div>\n",
       "        <style>\n",
       "            /* Turns off some styling */\n",
       "            progress {\n",
       "                /* gets rid of default border in Firefox and Opera. */\n",
       "                border: none;\n",
       "                /* Needs to be in here for Safari polyfill so background images work as expected. */\n",
       "                background-size: auto;\n",
       "            }\n",
       "            .progress-bar-interrupted, .progress-bar-interrupted::-webkit-progress-bar {\n",
       "                background: #F44336;\n",
       "            }\n",
       "        </style>\n",
       "      <progress value='181' class='' max='181' style='width:300px; height:20px; vertical-align: middle;'></progress>\n",
       "      100.00% [181/181 00:29<00:00 logp = -1.270e+07]\n",
       "    </div>\n",
       "    "
      ],
      "text/plain": [
       "<IPython.core.display.HTML object>"
      ]
     },
     "metadata": {},
     "output_type": "display_data"
    },
    {
     "name": "stdout",
     "output_type": "stream",
     "text": [
      "\n"
     ]
    },
    {
     "name": "stderr",
     "output_type": "stream",
     "text": [
      "message: Desired error not necessarily achieved due to precision loss.\n",
      "logp: -12707825.412314916 -> -12703919.46764697\n"
     ]
    }
   ],
   "source": [
    "model = fit_target_tts(lightcurves, period=period)"
   ]
  },
  {
   "cell_type": "code",
   "execution_count": 6,
   "id": "093a2c16",
   "metadata": {},
   "outputs": [
    {
     "data": {
      "image/png": "[encoded data removed]",
      "text/plain": [
       "<Figure size 432x288 with 1 Axes>"
      ]
     },
     "metadata": {
      "needs_background": "light"
     },
     "output_type": "display_data"
    }
   ],
   "source": [
    "model.plot_ttvs()"
   ]
  },
  {
   "cell_type": "code",
   "execution_count": null,
   "id": "0e4972b8",
   "metadata": {},
   "outputs": [],
   "source": []
  }
 ],
 "metadata": {
  "kernelspec": {
   "display_name": "Python 3 (ipykernel)",
   "language": "python",
   "name": "python3"
  },
  "language_info": {
   "codemirror_mode": {
    "name": "ipython",
    "version": 3
   },
   "file_extension": ".py",
   "mimetype": "text/x-python",
   "name": "python",
   "nbconvert_exporter": "python",
   "pygments_lexer": "ipython3",
   "version": "3.9.7"
  }
 },
 "nbformat": 4,
 "nbformat_minor": 5
}
