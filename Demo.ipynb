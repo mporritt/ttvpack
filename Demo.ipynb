{
 "cells": [
  {
   "cell_type": "code",
   "execution_count": 1,
   "id": "898ef72f",
   "metadata": {},
   "outputs": [
    {
     "name": "stderr",
     "output_type": "stream",
     "text": [
      "WARNING (aesara.tensor.blas): Using NumPy C-API based implementation for BLAS functions.\n",
      "WARNING (theano.tensor.blas): Using NumPy C-API based implementation for BLAS functions.\n"
     ]
    }
   ],
   "source": [
    "from retrieval import search_target, get_target\n",
    "from fitting import fit_target_tts"
   ]
  },
  {
   "cell_type": "code",
   "execution_count": 2,
   "id": "2dbd935c",
   "metadata": {},
   "outputs": [],
   "source": [
    "# Parameters for star k2-146\n",
    "epic = 211924657\n",
    "period = [2.64460, 4.00498] # Periods of known planets"
   ]
  },
  {
   "cell_type": "code",
   "execution_count": 7,
   "id": "e822439d",
   "metadata": {},
   "outputs": [
    {
     "data": {
      "text/html": [
       "SearchResult containing 15 data products.\n",
       "\n",
       "<table id=\"table139811543435008\">\n",
       "<thead><tr><th>#</th><th>mission</th><th>year</th><th>author</th><th>exptime</th><th>target_name</th><th>distance</th></tr></thead>\n",
       "<thead><tr><th></th><th></th><th></th><th></th><th>s</th><th></th><th>arcsec</th></tr></thead>\n",
       "<tr><td>0</td><td>K2 Campaign 05</td><td>2015</td><td><a href='https://archive.stsci.edu/k2/data_products.html'>K2</a></td><td>1800</td><td>ktwo211924657</td><td>0.0</td></tr>\n",
       "<tr><td>1</td><td>K2 Campaign 05</td><td>2015</td><td><a href='https://archive.stsci.edu/hlsp/everest'>EVEREST</a></td><td>1800</td><td>ktwo211924657</td><td>0.0</td></tr>\n",
       "<tr><td>2</td><td>K2 Campaign 05</td><td>2015</td><td>K2SC</td><td>1800</td><td>ktwo211924657</td><td>0.0</td></tr>\n",
       "<tr><td>3</td><td>K2 Campaign 05</td><td>2015</td><td><a href='https://archive.stsci.edu/hlsp/k2sff'>K2SFF</a></td><td>1800</td><td>ktwo211924657</td><td>0.0</td></tr>\n",
       "<tr><td>4</td><td>K2 Campaign 05</td><td>2015</td><td>PSFK2</td><td>1800</td><td>m44-ch-46-id-009349</td><td>0.0</td></tr>\n",
       "<tr><td>5</td><td>K2 Campaign 16</td><td>2017</td><td><a href='https://archive.stsci.edu/k2/data_products.html'>K2</a></td><td>60</td><td>ktwo211924657</td><td>0.0</td></tr>\n",
       "<tr><td>6</td><td>K2 Campaign 16</td><td>2017</td><td><a href='https://archive.stsci.edu/k2/data_products.html'>K2</a></td><td>1800</td><td>ktwo211924657</td><td>0.0</td></tr>\n",
       "<tr><td>7</td><td>K2 Campaign 16</td><td>2017</td><td><a href='https://archive.stsci.edu/hlsp/everest'>EVEREST</a></td><td>1800</td><td>ktwo211924657</td><td>0.0</td></tr>\n",
       "<tr><td>8</td><td>K2 Campaign 16</td><td>2017</td><td><a href='https://archive.stsci.edu/hlsp/k2sff'>K2SFF</a></td><td>1800</td><td>ktwo211924657</td><td>0.0</td></tr>\n",
       "<tr><td>9</td><td>K2 Campaign 18</td><td>2018</td><td><a href='https://archive.stsci.edu/k2/data_products.html'>K2</a></td><td>60</td><td>ktwo211924657</td><td>0.0</td></tr>\n",
       "<tr><td>10</td><td>K2 Campaign 18</td><td>2018</td><td><a href='https://archive.stsci.edu/k2/data_products.html'>K2</a></td><td>1800</td><td>ktwo211924657</td><td>0.0</td></tr>\n",
       "<tr><td>11</td><td>K2 Campaign 18</td><td>2018</td><td><a href='https://archive.stsci.edu/hlsp/everest'>EVEREST</a></td><td>1800</td><td>ktwo211924657</td><td>0.0</td></tr>\n",
       "<tr><td>12</td><td>K2 Campaign 18</td><td>2018</td><td><a href='https://archive.stsci.edu/hlsp/k2sff'>K2SFF</a></td><td>1800</td><td>ktwo211924657</td><td>0.0</td></tr>\n",
       "<tr><td>13</td><td>TESS Sector 44</td><td>2021</td><td><a href='https://mast.stsci.edu/tesscut/'>TESScut</a></td><td>475</td><td>211924657</td><td>0.0</td></tr>\n",
       "<tr><td>14</td><td>TESS Sector 46</td><td>2021</td><td><a href='https://mast.stsci.edu/tesscut/'>TESScut</a></td><td>475</td><td>211924657</td><td>0.0</td></tr>\n",
       "</table>"
      ],
      "text/plain": [
       "SearchResult containing 15 data products.\n",
       "\n",
       " #     mission     year  author exptime     target_name     distance\n",
       "                                   s                         arcsec \n",
       "--- -------------- ---- ------- ------- ------------------- --------\n",
       "  0 K2 Campaign 05 2015      K2    1800       ktwo211924657      0.0\n",
       "  1 K2 Campaign 05 2015 EVEREST    1800       ktwo211924657      0.0\n",
       "  2 K2 Campaign 05 2015    K2SC    1800       ktwo211924657      0.0\n",
       "  3 K2 Campaign 05 2015   K2SFF    1800       ktwo211924657      0.0\n",
       "  4 K2 Campaign 05 2015   PSFK2    1800 m44-ch-46-id-009349      0.0\n",
       "  5 K2 Campaign 16 2017      K2      60       ktwo211924657      0.0\n",
       "  6 K2 Campaign 16 2017      K2    1800       ktwo211924657      0.0\n",
       "  7 K2 Campaign 16 2017 EVEREST    1800       ktwo211924657      0.0\n",
       "  8 K2 Campaign 16 2017   K2SFF    1800       ktwo211924657      0.0\n",
       "  9 K2 Campaign 18 2018      K2      60       ktwo211924657      0.0\n",
       " 10 K2 Campaign 18 2018      K2    1800       ktwo211924657      0.0\n",
       " 11 K2 Campaign 18 2018 EVEREST    1800       ktwo211924657      0.0\n",
       " 12 K2 Campaign 18 2018   K2SFF    1800       ktwo211924657      0.0\n",
       " 13 TESS Sector 44 2021 TESScut     475           211924657      0.0\n",
       " 14 TESS Sector 46 2021 TESScut     475           211924657      0.0"
      ]
     },
     "execution_count": 7,
     "metadata": {},
     "output_type": "execute_result"
    }
   ],
   "source": [
    "search_target(epic=epic)"
   ]
  },
  {
   "cell_type": "code",
   "execution_count": 8,
   "id": "68ecf850",
   "metadata": {},
   "outputs": [
    {
     "name": "stdout",
     "output_type": "stream",
     "text": [
      "The following products were selected for download:\n",
      "SearchResult containing 5 data products.\n",
      "\n",
      " #     mission     year  author exptime  target_name  distance\n",
      "                                   s                   arcsec \n",
      "--- -------------- ---- ------- ------- ------------- --------\n",
      "  0 K2 Campaign 05 2015 EVEREST    1800 ktwo211924657      0.0\n",
      "  1 K2 Campaign 16 2017 EVEREST    1800 ktwo211924657      0.0\n",
      "  2 K2 Campaign 18 2018 EVEREST    1800 ktwo211924657      0.0\n",
      "  3 TESS Sector 44 2021 TESScut     475     211924657      0.0\n",
      "  4 TESS Sector 46 2021 TESScut     475     211924657      0.0\n",
      "\n",
      "Most recent sector available =  46\n",
      "This sector isn't available yet.\n",
      "Tried to download TESS sectors [44, 46], but only sectors [] are available according to tess-point.\n",
      "Resolving to download sectors [].\n"
     ]
    }
   ],
   "source": [
    "lightcurves = get_target(epic=epic)"
   ]
  },
  {
   "cell_type": "code",
   "execution_count": 5,
   "id": "65ad0082",
   "metadata": {
    "scrolled": true
   },
   "outputs": [
    {
     "name": "stdout",
     "output_type": "stream",
     "text": [
      "Fitting a timing model for data set 0...\n",
      "BLS found signal with t0=2308.99, period=2.6454, num_transits=28\n",
      "BLS found signal with t0=2308.70, period=3.9062, num_transits=19\n"
     ]
    },
    {
     "name": "stderr",
     "output_type": "stream",
     "text": [
      "optimizing logp for variables: [tts_1, tts_0]\n"
     ]
    },
    {
     "data": {
      "text/html": [
       "\n",
       "    <div>\n",
       "        <style>\n",
       "            /* Turns off some styling */\n",
       "            progress {\n",
       "                /* gets rid of default border in Firefox and Opera. */\n",
       "                border: none;\n",
       "                /* Needs to be in here for Safari polyfill so background images work as expected. */\n",
       "                background-size: auto;\n",
       "            }\n",
       "            .progress-bar-interrupted, .progress-bar-interrupted::-webkit-progress-bar {\n",
       "                background: #F44336;\n",
       "            }\n",
       "        </style>\n",
       "      <progress value='204' class='' max='204' style='width:300px; height:20px; vertical-align: middle;'></progress>\n",
       "      100.00% [204/204 00:01<00:00 logp = 2.077e+04]\n",
       "    </div>\n",
       "    "
      ],
      "text/plain": [
       "<IPython.core.display.HTML object>"
      ]
     },
     "metadata": {},
     "output_type": "display_data"
    },
    {
     "name": "stdout",
     "output_type": "stream",
     "text": [
      "\n"
     ]
    },
    {
     "name": "stderr",
     "output_type": "stream",
     "text": [
      "message: Desired error not necessarily achieved due to precision loss.\n",
      "logp: 20496.516380395187 -> 20773.96239048644\n",
      "optimizing logp for variables: [b, r]\n"
     ]
    },
    {
     "data": {
      "text/html": [
       "\n",
       "    <div>\n",
       "        <style>\n",
       "            /* Turns off some styling */\n",
       "            progress {\n",
       "                /* gets rid of default border in Firefox and Opera. */\n",
       "                border: none;\n",
       "                /* Needs to be in here for Safari polyfill so background images work as expected. */\n",
       "                background-size: auto;\n",
       "            }\n",
       "            .progress-bar-interrupted, .progress-bar-interrupted::-webkit-progress-bar {\n",
       "                background: #F44336;\n",
       "            }\n",
       "        </style>\n",
       "      <progress value='48' class='' max='48' style='width:300px; height:20px; vertical-align: middle;'></progress>\n",
       "      100.00% [48/48 00:00<00:00 logp = 2.183e+04]\n",
       "    </div>\n",
       "    "
      ],
      "text/plain": [
       "<IPython.core.display.HTML object>"
      ]
     },
     "metadata": {},
     "output_type": "display_data"
    },
    {
     "name": "stdout",
     "output_type": "stream",
     "text": [
      "\n"
     ]
    },
    {
     "name": "stderr",
     "output_type": "stream",
     "text": [
      "message: Optimization terminated successfully.\n",
      "logp: 20773.96239048644 -> 21827.42770047786\n",
      "optimizing logp for variables: [tts_1, tts_0]\n"
     ]
    },
    {
     "data": {
      "text/html": [
       "\n",
       "    <div>\n",
       "        <style>\n",
       "            /* Turns off some styling */\n",
       "            progress {\n",
       "                /* gets rid of default border in Firefox and Opera. */\n",
       "                border: none;\n",
       "                /* Needs to be in here for Safari polyfill so background images work as expected. */\n",
       "                background-size: auto;\n",
       "            }\n",
       "            .progress-bar-interrupted, .progress-bar-interrupted::-webkit-progress-bar {\n",
       "                background: #F44336;\n",
       "            }\n",
       "        </style>\n",
       "      <progress value='205' class='' max='205' style='width:300px; height:20px; vertical-align: middle;'></progress>\n",
       "      100.00% [205/205 00:00<00:00 logp = 2.192e+04]\n",
       "    </div>\n",
       "    "
      ],
      "text/plain": [
       "<IPython.core.display.HTML object>"
      ]
     },
     "metadata": {},
     "output_type": "display_data"
    },
    {
     "name": "stdout",
     "output_type": "stream",
     "text": [
      "\n"
     ]
    },
    {
     "name": "stderr",
     "output_type": "stream",
     "text": [
      "message: Desired error not necessarily achieved due to precision loss.\n",
      "logp: 21827.42770047786 -> 21920.70560596992\n",
      "optimizing logp for variables: [tts_1, tts_0, b, r, u, mean]\n"
     ]
    },
    {
     "data": {
      "text/html": [
       "\n",
       "    <div>\n",
       "        <style>\n",
       "            /* Turns off some styling */\n",
       "            progress {\n",
       "                /* gets rid of default border in Firefox and Opera. */\n",
       "                border: none;\n",
       "                /* Needs to be in here for Safari polyfill so background images work as expected. */\n",
       "                background-size: auto;\n",
       "            }\n",
       "            .progress-bar-interrupted, .progress-bar-interrupted::-webkit-progress-bar {\n",
       "                background: #F44336;\n",
       "            }\n",
       "        </style>\n",
       "      <progress value='223' class='' max='223' style='width:300px; height:20px; vertical-align: middle;'></progress>\n",
       "      100.00% [223/223 00:00<00:00 logp = 2.196e+04]\n",
       "    </div>\n",
       "    "
      ],
      "text/plain": [
       "<IPython.core.display.HTML object>"
      ]
     },
     "metadata": {},
     "output_type": "display_data"
    },
    {
     "name": "stdout",
     "output_type": "stream",
     "text": [
      "\n",
      "Fitting a timing model for data set 1...\n"
     ]
    },
    {
     "name": "stderr",
     "output_type": "stream",
     "text": [
      "message: Desired error not necessarily achieved due to precision loss.\n",
      "logp: 21920.70560596992 -> 21957.59434218586\n"
     ]
    },
    {
     "name": "stdout",
     "output_type": "stream",
     "text": [
      "BLS found signal with t0=3262.90, period=2.6575, num_transits=30\n",
      "BLS found signal with t0=3263.26, period=3.9836, num_transits=20\n"
     ]
    },
    {
     "name": "stderr",
     "output_type": "stream",
     "text": [
      "optimizing logp for variables: [tts_1, tts_0]\n"
     ]
    },
    {
     "data": {
      "text/html": [
       "\n",
       "    <div>\n",
       "        <style>\n",
       "            /* Turns off some styling */\n",
       "            progress {\n",
       "                /* gets rid of default border in Firefox and Opera. */\n",
       "                border: none;\n",
       "                /* Needs to be in here for Safari polyfill so background images work as expected. */\n",
       "                background-size: auto;\n",
       "            }\n",
       "            .progress-bar-interrupted, .progress-bar-interrupted::-webkit-progress-bar {\n",
       "                background: #F44336;\n",
       "            }\n",
       "        </style>\n",
       "      <progress value='204' class='' max='204' style='width:300px; height:20px; vertical-align: middle;'></progress>\n",
       "      100.00% [204/204 00:01<00:00 logp = 2.161e+04]\n",
       "    </div>\n",
       "    "
      ],
      "text/plain": [
       "<IPython.core.display.HTML object>"
      ]
     },
     "metadata": {},
     "output_type": "display_data"
    },
    {
     "name": "stdout",
     "output_type": "stream",
     "text": [
      "\n"
     ]
    },
    {
     "name": "stderr",
     "output_type": "stream",
     "text": [
      "message: Desired error not necessarily achieved due to precision loss.\n",
      "logp: 20683.37430352256 -> 21614.907060798567\n",
      "optimizing logp for variables: [b, r]\n"
     ]
    },
    {
     "data": {
      "text/html": [
       "\n",
       "    <div>\n",
       "        <style>\n",
       "            /* Turns off some styling */\n",
       "            progress {\n",
       "                /* gets rid of default border in Firefox and Opera. */\n",
       "                border: none;\n",
       "                /* Needs to be in here for Safari polyfill so background images work as expected. */\n",
       "                background-size: auto;\n",
       "            }\n",
       "            .progress-bar-interrupted, .progress-bar-interrupted::-webkit-progress-bar {\n",
       "                background: #F44336;\n",
       "            }\n",
       "        </style>\n",
       "      <progress value='40' class='' max='40' style='width:300px; height:20px; vertical-align: middle;'></progress>\n",
       "      100.00% [40/40 00:00<00:00 logp = 2.259e+04]\n",
       "    </div>\n",
       "    "
      ],
      "text/plain": [
       "<IPython.core.display.HTML object>"
      ]
     },
     "metadata": {},
     "output_type": "display_data"
    },
    {
     "name": "stdout",
     "output_type": "stream",
     "text": [
      "\n"
     ]
    },
    {
     "name": "stderr",
     "output_type": "stream",
     "text": [
      "message: Optimization terminated successfully.\n",
      "logp: 21614.907060798567 -> 22588.538524336873\n",
      "optimizing logp for variables: [tts_1, tts_0]\n"
     ]
    },
    {
     "data": {
      "text/html": [
       "\n",
       "    <div>\n",
       "        <style>\n",
       "            /* Turns off some styling */\n",
       "            progress {\n",
       "                /* gets rid of default border in Firefox and Opera. */\n",
       "                border: none;\n",
       "                /* Needs to be in here for Safari polyfill so background images work as expected. */\n",
       "                background-size: auto;\n",
       "            }\n",
       "            .progress-bar-interrupted, .progress-bar-interrupted::-webkit-progress-bar {\n",
       "                background: #F44336;\n",
       "            }\n",
       "        </style>\n",
       "      <progress value='180' class='' max='180' style='width:300px; height:20px; vertical-align: middle;'></progress>\n",
       "      100.00% [180/180 00:00<00:00 logp = 2.271e+04]\n",
       "    </div>\n",
       "    "
      ],
      "text/plain": [
       "<IPython.core.display.HTML object>"
      ]
     },
     "metadata": {},
     "output_type": "display_data"
    },
    {
     "name": "stdout",
     "output_type": "stream",
     "text": [
      "\n"
     ]
    },
    {
     "name": "stderr",
     "output_type": "stream",
     "text": [
      "message: Desired error not necessarily achieved due to precision loss.\n",
      "logp: 22588.538524336873 -> 22710.82230695641\n",
      "optimizing logp for variables: [tts_1, tts_0, b, r, u, mean]\n"
     ]
    },
    {
     "data": {
      "text/html": [
       "\n",
       "    <div>\n",
       "        <style>\n",
       "            /* Turns off some styling */\n",
       "            progress {\n",
       "                /* gets rid of default border in Firefox and Opera. */\n",
       "                border: none;\n",
       "                /* Needs to be in here for Safari polyfill so background images work as expected. */\n",
       "                background-size: auto;\n",
       "            }\n",
       "            .progress-bar-interrupted, .progress-bar-interrupted::-webkit-progress-bar {\n",
       "                background: #F44336;\n",
       "            }\n",
       "        </style>\n",
       "      <progress value='193' class='' max='193' style='width:300px; height:20px; vertical-align: middle;'></progress>\n",
       "      100.00% [193/193 00:00<00:00 logp = 2.273e+04]\n",
       "    </div>\n",
       "    "
      ],
      "text/plain": [
       "<IPython.core.display.HTML object>"
      ]
     },
     "metadata": {},
     "output_type": "display_data"
    },
    {
     "name": "stdout",
     "output_type": "stream",
     "text": [
      "\n",
      "Fitting a timing model for data set 2...\n"
     ]
    },
    {
     "name": "stderr",
     "output_type": "stream",
     "text": [
      "message: Desired error not necessarily achieved due to precision loss.\n",
      "logp: 22710.82230695641 -> 22729.08943771805\n"
     ]
    },
    {
     "name": "stdout",
     "output_type": "stream",
     "text": [
      "BLS found signal with t0=3419.37, period=2.6700, num_transits=19\n",
      "BLS found signal with t0=3419.03, period=3.9629, num_transits=13\n"
     ]
    },
    {
     "name": "stderr",
     "output_type": "stream",
     "text": [
      "optimizing logp for variables: [tts_1, tts_0]\n"
     ]
    },
    {
     "data": {
      "text/html": [
       "\n",
       "    <div>\n",
       "        <style>\n",
       "            /* Turns off some styling */\n",
       "            progress {\n",
       "                /* gets rid of default border in Firefox and Opera. */\n",
       "                border: none;\n",
       "                /* Needs to be in here for Safari polyfill so background images work as expected. */\n",
       "                background-size: auto;\n",
       "            }\n",
       "            .progress-bar-interrupted, .progress-bar-interrupted::-webkit-progress-bar {\n",
       "                background: #F44336;\n",
       "            }\n",
       "        </style>\n",
       "      <progress value='183' class='' max='183' style='width:300px; height:20px; vertical-align: middle;'></progress>\n",
       "      100.00% [183/183 00:00<00:00 logp = 1.426e+04]\n",
       "    </div>\n",
       "    "
      ],
      "text/plain": [
       "<IPython.core.display.HTML object>"
      ]
     },
     "metadata": {},
     "output_type": "display_data"
    },
    {
     "name": "stdout",
     "output_type": "stream",
     "text": [
      "\n"
     ]
    },
    {
     "name": "stderr",
     "output_type": "stream",
     "text": [
      "message: Desired error not necessarily achieved due to precision loss.\n",
      "logp: 14151.056704525587 -> 14260.938282692467\n",
      "optimizing logp for variables: [b, r]\n"
     ]
    },
    {
     "data": {
      "text/html": [
       "\n",
       "    <div>\n",
       "        <style>\n",
       "            /* Turns off some styling */\n",
       "            progress {\n",
       "                /* gets rid of default border in Firefox and Opera. */\n",
       "                border: none;\n",
       "                /* Needs to be in here for Safari polyfill so background images work as expected. */\n",
       "                background-size: auto;\n",
       "            }\n",
       "            .progress-bar-interrupted, .progress-bar-interrupted::-webkit-progress-bar {\n",
       "                background: #F44336;\n",
       "            }\n",
       "        </style>\n",
       "      <progress value='38' class='' max='38' style='width:300px; height:20px; vertical-align: middle;'></progress>\n",
       "      100.00% [38/38 00:00<00:00 logp = 1.479e+04]\n",
       "    </div>\n",
       "    "
      ],
      "text/plain": [
       "<IPython.core.display.HTML object>"
      ]
     },
     "metadata": {},
     "output_type": "display_data"
    },
    {
     "name": "stdout",
     "output_type": "stream",
     "text": [
      "\n"
     ]
    },
    {
     "name": "stderr",
     "output_type": "stream",
     "text": [
      "message: Optimization terminated successfully.\n",
      "logp: 14260.938282692467 -> 14793.478331049222\n",
      "optimizing logp for variables: [tts_1, tts_0]\n"
     ]
    },
    {
     "data": {
      "text/html": [
       "\n",
       "    <div>\n",
       "        <style>\n",
       "            /* Turns off some styling */\n",
       "            progress {\n",
       "                /* gets rid of default border in Firefox and Opera. */\n",
       "                border: none;\n",
       "                /* Needs to be in here for Safari polyfill so background images work as expected. */\n",
       "                background-size: auto;\n",
       "            }\n",
       "            .progress-bar-interrupted, .progress-bar-interrupted::-webkit-progress-bar {\n",
       "                background: #F44336;\n",
       "            }\n",
       "        </style>\n",
       "      <progress value='131' class='' max='131' style='width:300px; height:20px; vertical-align: middle;'></progress>\n",
       "      100.00% [131/131 00:00<00:00 logp = 1.488e+04]\n",
       "    </div>\n",
       "    "
      ],
      "text/plain": [
       "<IPython.core.display.HTML object>"
      ]
     },
     "metadata": {},
     "output_type": "display_data"
    },
    {
     "name": "stdout",
     "output_type": "stream",
     "text": [
      "\n"
     ]
    },
    {
     "name": "stderr",
     "output_type": "stream",
     "text": [
      "message: Desired error not necessarily achieved due to precision loss.\n",
      "logp: 14793.478331049222 -> 14877.68721253204\n",
      "optimizing logp for variables: [tts_1, tts_0, b, r, u, mean]\n"
     ]
    },
    {
     "data": {
      "text/html": [
       "\n",
       "    <div>\n",
       "        <style>\n",
       "            /* Turns off some styling */\n",
       "            progress {\n",
       "                /* gets rid of default border in Firefox and Opera. */\n",
       "                border: none;\n",
       "                /* Needs to be in here for Safari polyfill so background images work as expected. */\n",
       "                background-size: auto;\n",
       "            }\n",
       "            .progress-bar-interrupted, .progress-bar-interrupted::-webkit-progress-bar {\n",
       "                background: #F44336;\n",
       "            }\n",
       "        </style>\n",
       "      <progress value='223' class='' max='223' style='width:300px; height:20px; vertical-align: middle;'></progress>\n",
       "      100.00% [223/223 00:00<00:00 logp = 1.498e+04]\n",
       "    </div>\n",
       "    "
      ],
      "text/plain": [
       "<IPython.core.display.HTML object>"
      ]
     },
     "metadata": {},
     "output_type": "display_data"
    },
    {
     "name": "stdout",
     "output_type": "stream",
     "text": [
      "\n"
     ]
    },
    {
     "name": "stderr",
     "output_type": "stream",
     "text": [
      "message: Desired error not necessarily achieved due to precision loss.\n",
      "logp: 14877.68721253204 -> 14978.670320709365\n"
     ]
    }
   ],
   "source": [
    "model = fit_target_tts(lightcurves, period=period)"
   ]
  },
  {
   "cell_type": "code",
   "execution_count": 6,
   "id": "04abcef5",
   "metadata": {},
   "outputs": [
    {
     "data": {
      "image/png": "[encoded data removed]",
      "text/plain": [
       "<Figure size 432x288 with 1 Axes>"
      ]
     },
     "metadata": {
      "needs_background": "light"
     },
     "output_type": "display_data"
    }
   ],
   "source": [
    "model.plot_ttvs()"
   ]
  },
  {
   "cell_type": "code",
   "execution_count": null,
   "id": "0e384a48",
   "metadata": {},
   "outputs": [],
   "source": []
  }
 ],
 "metadata": {
  "kernelspec": {
   "display_name": "Python 3 (ipykernel)",
   "language": "python",
   "name": "python3"
  },
  "language_info": {
   "codemirror_mode": {
    "name": "ipython",
    "version": 3
   },
   "file_extension": ".py",
   "mimetype": "text/x-python",
   "name": "python",
   "nbconvert_exporter": "python",
   "pygments_lexer": "ipython3",
   "version": "3.9.7"
  }
 },
 "nbformat": 4,
 "nbformat_minor": 5
}
